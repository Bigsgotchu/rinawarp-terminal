{
 "cells": [
  {
   "cell_type": "markdown",
   "metadata": {},
   "source": [
    "# Multimodal Multi-Agent Framework with Azure OpenAI Assistant API\n",
    "\n",
    "This notebook demonstrates a collaborative multi-agent system with:\n",
    "- **User Proxy Assistant** (orchestrator)\n",
    "- **DALL-E Assistant** (image generation)\n",
    "- **Vision Assistant** (image analysis)\n",
    "\n",
    "Based on the architecture described in the Azure OpenAI Assistant API documentation."
   ]
  },
  {
   "cell_type": "markdown",
   "metadata": {},
   "source": [
    "## 1. Setup and Installation\n",
    "\n",
    "First, let's install the required packages:"
   ]
  },
  {
   "cell_type": "code",
   "execution_count": null,
   "metadata": {},
   "outputs": [],
   "source": [
    "!pip install openai pillow requests python-dotenv"
   ]
  },
  {
   "cell_type": "markdown",
   "metadata": {},
   "source": [
    "## 2. Environment Configuration\n",
    "\n",
    "Set up your Azure OpenAI credentials:"
   ]
  },
  {
   "cell_type": "code",
   "execution_count": null,
   "metadata": {},
   "outputs": [],
   "source": [
    "import os\n",
    "from dotenv import load_dotenv\n",
    "\n",
    "# Load environment variables\n",
    "load_dotenv()\n",
    "\n",
    "# Azure OpenAI Configuration\n",
    "AZURE_OPENAI_ENDPOINT = os.getenv(\"AZURE_OPENAI_ENDPOINT\", \"your-endpoint-here\")\n",
    "AZURE_OPENAI_API_KEY = os.getenv(\"AZURE_OPENAI_API_KEY\", \"your-api-key-here\")\n",
    "API_VERSION = \"2024-02-15-preview\"\n",
    "ASSISTANT_DEPLOYMENT_NAME = \"gpt-4-1106-preview\"  # Change to your deployment name\n",
    "\n",
    "print(f\"Endpoint: {AZURE_OPENAI_ENDPOINT[:50]}...\")\n",
    "print(f\"API Key: {'*' * len(AZURE_OPENAI_API_KEY) if AZURE_OPENAI_API_KEY != 'your-api-key-here' else 'Not set'}\")"
   ]
  },
  {
   "cell_type": "markdown",
   "metadata": {},
   "source": [
    "## 3. Multi-Agent Framework Implementation\n",
    "\n",
    "Let's import the framework class:"
   ]
  },
  {
   "cell_type": "code",
   "execution_count": null,
   "metadata": {},
   "outputs": [],
   "source": [
    "# Import the framework from our module\n",
    "from multiagent_framework import MultiAgentFramework\n",
    "\n",
    "# Alternatively, you can copy the class definition here if you prefer"
   ]
  },
  {
   "cell_type": "markdown",
   "metadata": {},
   "source": [
    "## 4. Initialize the Multi-Agent Framework\n",
    "\n",
    "Create an instance of the framework with your Azure OpenAI credentials:"
   ]
  },
  {
   "cell_type": "code",
   "execution_count": null,
   "metadata": {},
   "outputs": [],
   "source": [
    "# Initialize the framework\n",
    "framework = MultiAgentFramework(\n",
    "    azure_endpoint=AZURE_OPENAI_ENDPOINT,\n",
    "    api_key=AZURE_OPENAI_API_KEY,\n",
    "    api_version=API_VERSION,\n",
    "    assistant_deployment_name=ASSISTANT_DEPLOYMENT_NAME\n",
    ")\n",
    "\n",
    "print(\"Framework initialized successfully!\")"
   ]
  },
  {
   "cell_type": "markdown",
   "metadata": {},
   "source": [
    "## 5. Start the Conversation\n",
    "\n",
    "Initialize the main conversation thread:"
   ]
  },
  {
   "cell_type": "code",
   "execution_count": null,
   "metadata": {},
   "outputs": [],
   "source": [
    "# Start the main conversation thread\n",
    "thread_id = framework.start_conversation()\n",
    "print(f\"Main thread ID: {thread_id}\")"
   ]
  },
  {
   "cell_type": "markdown",
   "metadata": {},
   "source": [
    "## 6. Example 1: Simple Image Generation and Analysis\n",
    "\n",
    "Let's test the basic functionality with a simple request:"
   ]
  },
  {
   "cell_type": "code",
   "execution_count": null,
   "metadata": {},
   "outputs": [],
   "source": [
    "# Simple image generation request\n",
    "user_query = \"Generate an image of a futuristic city skyline at night with neon lights\"\n",
    "\n",
    "print(\"=\" * 60)\n",
    "print(\"EXAMPLE 1: Simple Image Generation\")\n",
    "print(\"=\" * 60)\n",
    "\n",
    "response = framework.send_user_message(user_query)\n",
    "print(\"\\nResponse received!\")"
   ]
  },
  {
   "cell_type": "markdown",
   "metadata": {},
   "source": [
    "## 7. Example 2: Complex Multi-Agent Workflow\n",
    "\n",
    "Now let's test the full multi-agent collaboration with image generation and analysis:"
   ]
  },
  {
   "cell_type": "code",
   "execution_count": null,
   "metadata": {},
   "outputs": [],
   "source": [
    "# Complex multi-agent workflow\n",
    "user_query = \"\"\"\n",
    "Create a beautiful landscape image of a sunset over mountains, \n",
    "then analyze it for quality and suggest improvements. \n",
    "Based on the analysis, create an improved version of the image.\n",
    "\"\"\"\n",
    "\n",
    "print(\"=\" * 60)\n",
    "print(\"EXAMPLE 2: Multi-Agent Collaboration\")\n",
    "print(\"=\" * 60)\n",
    "\n",
    "response = framework.send_user_message(user_query)\n",
    "print(\"\\nMulti-agent workflow completed!\")"
   ]
  },
  {
   "cell_type": "markdown",
   "metadata": {},
   "source": [
    "## 8. Example 3: Interactive Conversation\n",
    "\n",
    "Let's have an interactive conversation with the agents:"
   ]
  },
  {
   "cell_type": "code",
   "execution_count": null,
   "metadata": {},
   "outputs": [],
   "source": [
    "# Interactive conversation loop\n",
    "print(\"=\" * 60)\n",
    "print(\"EXAMPLE 3: Interactive Conversation\")\n",
    "print(\"Type 'quit' to exit\")\n",
    "print(\"=\" * 60)\n",
    "\n",
    "while True:\n",
    "    user_input = input(\"\\nYou: \")\n",
    "    \n",
    "    if user_input.lower() in ['quit', 'exit', 'stop']:\n",
    "        print(\"Ending conversation...\")\n",
    "        break\n",
    "    \n",
    "    if user_input.strip() == \"\":\n",
    "        continue\n",
    "    \n",
    "    try:\n",
    "        response = framework.send_user_message(user_input)\n",
    "    except KeyboardInterrupt:\n",
    "        print(\"\\nConversation interrupted.\")\n",
    "        break\n",
    "    except Exception as e:\n",
    "        print(f\"Error: {e}\")"
   ]
  },
  {
   "cell_type": "markdown",
   "metadata": {},
   "source": [
    "## 9. Agent Communication Analysis\n",
    "\n",
    "Let's examine how agents communicate with each other:"
   ]
  },
  {
   "cell_type": "code",
   "execution_count": null,
   "metadata": {},
   "outputs": [],
   "source": [
    "# Display agent thread information\n",
    "print(\"=\" * 60)\n",
    "print(\"AGENT THREAD ANALYSIS\")\n",
    "print(\"=\" * 60)\n",
    "\n",
    "print(f\"Main thread ID: {framework.main_thread.id if framework.main_thread else 'Not created'}\")\n",
    "print(\"\\nAgent threads:\")\n",
    "\n",
    "for agent_name, info in framework.agents_threads.items():\n",
    "    thread_id = info['thread'].id if info['thread'] else 'Not created'\n",
    "    print(f\"  {agent_name}: {thread_id}\")\n",
    "\n",
    "print(f\"\\nTotal assistants created: {len(framework.assistants)}\")\n",
    "for name, assistant in framework.assistants.items():\n",
    "    print(f\"  {name}: {assistant.id}\")"
   ]
  },
  {
   "cell_type": "markdown",
   "metadata": {},
   "source": [
    "## 10. Advanced Features and Customization\n",
    "\n",
    "Let's explore some advanced features:"
   ]
  },
  {
   "cell_type": "code",
   "execution_count": null,
   "metadata": {},
   "outputs": [],
   "source": [
    "# Test specific agent functions directly\n",
    "print(\"=\" * 60)\n",
    "print(\"DIRECT AGENT FUNCTION TESTING\")\n",
    "print(\"=\" * 60)\n",
    "\n",
    "# Test direct image generation\n",
    "print(\"\\n1. Testing direct image generation:\")\n",
    "image_result = framework.generate_image(\n",
    "    \"A serene Japanese garden with cherry blossoms and a small pond\",\n",
    "    \"1024x1024\"\n",
    ")\n",
    "print(f\"Result: {image_result[:100]}...\")\n",
    "\n",
    "# Test direct message to agent\n",
    "print(\"\\n2. Testing direct message to DALL-E assistant:\")\n",
    "dalle_response = framework.send_message_to_agent(\n",
    "    \"dalle_assistant\",\n",
    "    \"Create an abstract art piece with vibrant colors\"\n",
    ")\n",
    "print(f\"DALL-E Response: {dalle_response[:100]}...\")"
   ]
  },
  {
   "cell_type": "markdown",
   "metadata": {},
   "source": [
    "## 11. Performance Monitoring\n",
    "\n",
    "Let's add some performance monitoring:"
   ]
  },
  {
   "cell_type": "code",
   "execution_count": null,
   "metadata": {},
   "outputs": [],
   "source": [
    "import time\n",
    "\n",
    "# Performance test\n",
    "print(\"=\" * 60)\n",
    "print(\"PERFORMANCE MONITORING\")\n",
    "print(\"=\" * 60)\n",
    "\n",
    "start_time = time.time()\n",
    "\n",
    "# Test a simple request\n",
    "test_query = \"Generate a simple cartoon character\"\n",
    "response = framework.send_user_message(test_query)\n",
    "\n",
    "end_time = time.time()\n",
    "duration = end_time - start_time\n",
    "\n",
    "print(f\"\\nRequest completed in {duration:.2f} seconds\")\n",
    "print(f\"Response length: {len(response)} characters\")"
   ]
  },
  {
   "cell_type": "markdown",
   "metadata": {},
   "source": [
    "## 12. Error Handling and Debugging\n",
    "\n",
    "Let's test error handling capabilities:"
   ]
  },
  {
   "cell_type": "code",
   "execution_count": null,
   "metadata": {},
   "outputs": [],
   "source": [
    "# Test error handling\n",
    "print(\"=\" * 60)\n",
    "print(\"ERROR HANDLING TESTING\")\n",
    "print(\"=\" * 60)\n",
    "\n",
    "# Test invalid agent name\n",
    "print(\"1. Testing invalid agent name:\")\n",
    "error_response = framework.send_message_to_agent(\n",
    "    \"invalid_agent\",\n",
    "    \"This should fail\"\n",
    ")\n",
    "print(f\"Response: {error_response}\")\n",
    "\n",
    "# Test with very long prompt\n",
    "print(\"\\n2. Testing with very long prompt:\")\n",
    "long_prompt = \"Create an image of \" + \"a very detailed scene \" * 100\n",
    "try:\n",
    "    long_response = framework.generate_image(long_prompt[:1000])  # Truncate to reasonable length\n",
    "    print(f\"Long prompt result: {long_response[:100]}...\")\n",
    "except Exception as e:\n",
    "    print(f\"Error with long prompt: {e}\")"
   ]
  },
  {
   "cell_type": "markdown",
   "metadata": {},
   "source": [
    "## 13. Cleanup and Resource Management\n",
    "\n",
    "Always clean up resources when done:"
   ]
  },
  {
   "cell_type": "code",
   "execution_count": null,
   "metadata": {},
   "outputs": [],
   "source": [
    "# Cleanup resources\n",
    "print(\"=\" * 60)\n",
    "print(\"CLEANUP AND RESOURCE MANAGEMENT\")\n",
    "print(\"=\" * 60)\n",
    "\n",
    "# Show current resource usage\n",
    "print(f\"Assistants to cleanup: {len(framework.assistants)}\")\n",
    "print(f\"Active threads: {sum(1 for info in framework.agents_threads.values() if info['thread'])}\")\n",
    "\n",
    "# Perform cleanup\n",
    "framework.cleanup()\n",
    "\n",
    "print(\"\\n✅ Cleanup completed!\")\n",
    "print(\"All assistants have been deleted from Azure OpenAI.\")"
   ]
  },
  {
   "cell_type": "markdown",
   "metadata": {},
   "source": [
    "## 14. Summary and Next Steps\n",
    "\n",
    "This notebook demonstrates a complete multimodal multi-agent framework using Azure OpenAI Assistant API.\n",
    "\n",
    "### Key Features Demonstrated:\n",
    "1. **Multi-Agent Architecture**: User Proxy, DALL-E, and Vision assistants\n",
    "2. **Persistent Threading**: Agents maintain conversation context\n",
    "3. **Function Calling**: Agents can call specialized functions\n",
    "4. **Inter-Agent Communication**: Agents collaborate to solve complex tasks\n",
    "5. **Error Handling**: Robust error management and debugging\n",
    "6. **Resource Management**: Proper cleanup of Azure resources\n",
    "\n",
    "### Possible Extensions:\n",
    "- Add more specialized agents (e.g., text analysis, code generation)\n",
    "- Implement agent scheduling and task queuing\n",
    "- Add persistent storage for conversation history\n",
    "- Integrate with external APIs and services\n",
    "- Create a web interface for easier interaction\n",
    "- Add metrics and analytics for agent performance\n",
    "\n",
    "### Best Practices:\n",
    "- Always clean up resources after use\n",
    "- Monitor API usage and costs\n",
    "- Implement proper error handling\n",
    "- Use environment variables for sensitive data\n",
    "- Test with various input types and edge cases"
   ]
  }
 ],
 "metadata": {
  "kernelspec": {
   "display_name": "Python 3",
   "language": "python",
   "name": "python3"
  },
  "language_info": {
   "codemirror_mode": {
    "name": "ipython",
    "version": 3
   },
   "file_extension": ".py",
   "mimetype": "text/x-python",
   "name": "python",
   "nbconvert_exporter": "python",
   "pygments_lexer": "ipython3",
   "version": "3.8.0"
  }
 },
 "nbformat": 4,
 "nbformat_minor": 4
}

